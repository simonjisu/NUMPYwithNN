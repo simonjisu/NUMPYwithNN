{
 "cells": [
  {
   "cell_type": "markdown",
   "metadata": {},
   "source": [
    "# Perceptron\n",
    "---"
   ]
  },
  {
   "cell_type": "markdown",
   "metadata": {},
   "source": [
    "Codes are writen by simonjisu.\n",
    "* Simonjisu Blog: https://simonjisu.github.io\n",
    "* Project Numpy with NN: https://github.com/simonjisu/NUMPYwithNN"
   ]
  },
  {
   "cell_type": "markdown",
   "metadata": {},
   "source": [
    "## How to solve XOR problem?\n",
    "---"
   ]
  },
  {
   "cell_type": "markdown",
   "metadata": {},
   "source": [
    "## Goal"
   ]
  },
  {
   "cell_type": "markdown",
   "metadata": {},
   "source": [
    "Can a linear function solve under inputs and results?\n",
    "\n",
    "$y = f(x_1, x_2) = \n",
    "\\begin{cases}\n",
    "0\\ ,\\quad x_1=x_2=0\\ or\\ x_1=x_2=1 \\\\\n",
    "1\\ ,\\quad x_1=0, x_2=1\\ or\\ x_1=1, x_2=0\n",
    "\\end{cases}$"
   ]
  },
  {
   "cell_type": "markdown",
   "metadata": {},
   "source": [
    "| $x_1$ | $x_2$ | $y$ |\n",
    "|:--:|:--:|:--:|\n",
    "|0|0|0|\n",
    "|1|0|1|\n",
    "|0|1|1|\n",
    "|1|1|0|"
   ]
  },
  {
   "cell_type": "markdown",
   "metadata": {},
   "source": [
    "A linear function can't, but 2 linear functions can"
   ]
  },
  {
   "cell_type": "markdown",
   "metadata": {},
   "source": [
    "### AND Gate"
   ]
  },
  {
   "cell_type": "markdown",
   "metadata": {},
   "source": [
    "$$\n",
    "y = \n",
    "\\begin{cases}\n",
    "  0\\ \\ (b + w_1x_1 + w_2x_2 \\leq 0) \\\\\n",
    "  1\\ \\ (b + w_1x_1 + w_2x_2 > 0) \\\\ \n",
    "\\end{cases}\n",
    "$$\n",
    "\n",
    "$w_1, w_2 > 0,\\ b<0 $ and $|w_1|, |w_2| \\leq |b|$"
   ]
  },
  {
   "cell_type": "markdown",
   "metadata": {},
   "source": [
    "| $x_1$ | $x_2$ | $y$ |\n",
    "|:--:|:--:|:--:|\n",
    "|0|0|0|\n",
    "|1|0|0|\n",
    "|0|1|0|\n",
    "|1|1|1|"
   ]
  },
  {
   "cell_type": "code",
   "execution_count": 1,
   "metadata": {
    "collapsed": true
   },
   "outputs": [],
   "source": [
    "def AND(x1, x2):\n",
    "    x = np.array([x1, x2])\n",
    "    w = np.array([0.5, 0.5])\n",
    "    b = -0.7\n",
    "    tmp = np.sum(x*w) + b\n",
    "    if tmp <= 0:\n",
    "        return 0\n",
    "    else:\n",
    "        return 1"
   ]
  },
  {
   "cell_type": "code",
   "execution_count": 2,
   "metadata": {
    "collapsed": false
   },
   "outputs": [
    {
     "name": "stdout",
     "output_type": "stream",
     "text": [
      "AND(0,0) : 0\n",
      "AND(0,1) : 0\n",
      "AND(1,0) : 0\n",
      "AND(1,1) : 1\n"
     ]
    }
   ],
   "source": [
    "xx = [[0, 0], [0, 1], [1, 0], [1, 1]]\n",
    "for x in xx:\n",
    "    print('AND({0},{1}) : {2}'.format(x[0], x[1], AND(x[0], x[1])))"
   ]
  },
  {
   "cell_type": "markdown",
   "metadata": {},
   "source": [
    "### NAND Gate"
   ]
  },
  {
   "cell_type": "markdown",
   "metadata": {},
   "source": [
    "$$\n",
    "y = \n",
    "\\begin{cases}\n",
    "  0\\ \\ (b + w_1x_1 + w_2x_2 \\leq 0) \\\\\n",
    "  1\\ \\ (b + w_1x_1 + w_2x_2 > 0) \\\\ \n",
    "\\end{cases}\n",
    "$$\n",
    "\n",
    "$w_1, w_2 < 0,\\ b > 0 $ and $|w_1|, |w_2| \\leq |b|$"
   ]
  },
  {
   "cell_type": "markdown",
   "metadata": {},
   "source": [
    "| $x_1$ | $x_2$ | $y$ |\n",
    "|:--:|:--:|:--:|\n",
    "|0|0|1|\n",
    "|1|0|1|\n",
    "|0|1|1|\n",
    "|1|1|0|\n"
   ]
  },
  {
   "cell_type": "code",
   "execution_count": 3,
   "metadata": {
    "collapsed": true
   },
   "outputs": [],
   "source": [
    "def NAND(x1, x2):\n",
    "    x = np.array([x1, x2])\n",
    "    w = np.array([-0.5, -0.5])\n",
    "    b = 0.7\n",
    "    tmp = np.sum(x*w) + b\n",
    "    if tmp <= 0:\n",
    "        return 0\n",
    "    else:\n",
    "        return 1"
   ]
  },
  {
   "cell_type": "code",
   "execution_count": 4,
   "metadata": {
    "collapsed": false
   },
   "outputs": [
    {
     "name": "stdout",
     "output_type": "stream",
     "text": [
      "NAND(0,0) : 1\n",
      "NAND(0,1) : 1\n",
      "NAND(1,0) : 1\n",
      "NAND(1,1) : 0\n"
     ]
    }
   ],
   "source": [
    "xx = [[0, 0], [0, 1], [1, 0], [1, 1]]\n",
    "for x in xx:\n",
    "    print('NAND({0},{1}) : {2}'.format(x[0], x[1], NAND(x[0], x[1])))"
   ]
  },
  {
   "cell_type": "markdown",
   "metadata": {},
   "source": [
    "### OR Gate"
   ]
  },
  {
   "cell_type": "markdown",
   "metadata": {},
   "source": [
    "$$\n",
    "y = \n",
    "\\begin{cases}\n",
    "  0\\ \\ (b + w_1x_1 + w_2x_2 \\leq 0) \\\\\n",
    "  1\\ \\ (b + w_1x_1 + w_2x_2 > 0) \\\\ \n",
    "\\end{cases}\n",
    "$$\n",
    "\n",
    "$w_1, w_2 > 0,\\ b < 0 $ and $|w_1|, |w_2| \\geq |b|$"
   ]
  },
  {
   "cell_type": "markdown",
   "metadata": {},
   "source": [
    "| $x_1$ | $x_2$ | $y$ |\n",
    "|:--:|:--:|:--:|\n",
    "|0|0|0|\n",
    "|1|0|1|\n",
    "|0|1|1|\n",
    "|1|1|1|\n"
   ]
  },
  {
   "cell_type": "code",
   "execution_count": 5,
   "metadata": {
    "collapsed": true
   },
   "outputs": [],
   "source": [
    "def OR(x1, x2):\n",
    "    x = np.array([x1, x2])\n",
    "    w = np.array([0.5, 0.5])\n",
    "    b = -0.2\n",
    "    tmp = np.sum(x*w) + b\n",
    "    if tmp <= 0:\n",
    "        return 0\n",
    "    else:\n",
    "        return 1"
   ]
  },
  {
   "cell_type": "code",
   "execution_count": 6,
   "metadata": {
    "collapsed": false
   },
   "outputs": [
    {
     "name": "stdout",
     "output_type": "stream",
     "text": [
      "OR(0,0) : 0\n",
      "OR(0,1) : 1\n",
      "OR(1,0) : 1\n",
      "OR(1,1) : 1\n"
     ]
    }
   ],
   "source": [
    "xx = [[0, 0], [0, 1], [1, 0], [1, 1]]\n",
    "for x in xx:\n",
    "    print('OR({0},{1}) : {2}'.format(x[0], x[1], OR(x[0], x[1])))"
   ]
  },
  {
   "cell_type": "markdown",
   "metadata": {},
   "source": [
    "### plot"
   ]
  },
  {
   "cell_type": "markdown",
   "metadata": {},
   "source": [
    "red points \"x\" equal to 0, \"o\" equal to 1\n",
    "\n",
    "We can see a Linear function can classify x."
   ]
  },
  {
   "cell_type": "code",
   "execution_count": 7,
   "metadata": {
    "collapsed": true
   },
   "outputs": [],
   "source": [
    "def get_x2(x1, w_idx, b_idx):\n",
    "    w_points = np.array([[0.5, 0.5],\n",
    "                     [-0.5, -0.5],\n",
    "                     [0.5, 0.5]])\n",
    "    b_points = [-0.7, 0.7, -0.2]\n",
    "    return (-b_points[b_idx] - w_points[w_idx][0] * x1) / w_points[w_idx][1]"
   ]
  },
  {
   "cell_type": "code",
   "execution_count": 8,
   "metadata": {
    "collapsed": false,
    "scrolled": true
   },
   "outputs": [
    {
     "data": {
      "image/png": "[encoded data removed]",
      "text/plain": [
       "<matplotlib.figure.Figure at 0x1c12a0fb70>"
      ]
     },
     "metadata": {},
     "output_type": "display_data"
    }
   ],
   "source": [
    "fig = plt.figure(figsize=(8, 3), dpi=100)\n",
    "# AND\n",
    "ax1 = fig.add_subplot(1,3,1)\n",
    "ax1.scatter([1], [1], s=30, c='r', marker='o')\n",
    "ax1.scatter([0, 0, 1], [0, 1, 0], s=30, c='r', marker='x')\n",
    "ax1.plot([-2, 2], [get_x2(-2, 0, 0), get_x2(2, 0, 0)])\n",
    "ax1.set_xlim([-2, 2])\n",
    "ax1.set_ylim([-2, 2])\n",
    "ax1.set_title('AND')\n",
    "# NAND\n",
    "ax2 = fig.add_subplot(1,3,2)\n",
    "ax2.scatter([0, 0, 1], [0, 1, 0], s=30, c='r', marker='o')\n",
    "ax2.scatter([1], [1], s=30, c='r', marker='x')\n",
    "ax2.plot([-2, 2], [get_x2(-2, 1, 1), get_x2(2, 1, 1)])\n",
    "ax2.set_xlim([-2, 2])\n",
    "ax2.set_ylim([-2, 2])\n",
    "ax2.set_title('NAND')\n",
    "# OR\n",
    "ax3 = fig.add_subplot(1,3,3)\n",
    "ax3.scatter([1, 0, 1], [0, 1, 1], s=30, c='r', marker='o')\n",
    "ax3.scatter([0], [0], s=30, c='r', marker='x')\n",
    "ax3.plot([-2, 2], [get_x2(-2, 2, 2), get_x2(2, 2, 2)])\n",
    "ax3.set_xlim([-2, 2])\n",
    "ax3.set_ylim([-2, 2])\n",
    "ax3.set_title('OR')\n",
    "plt.tight_layout()\n",
    "plt.show()"
   ]
  },
  {
   "cell_type": "markdown",
   "metadata": {},
   "source": [
    "### XOR"
   ]
  },
  {
   "cell_type": "markdown",
   "metadata": {},
   "source": [
    "However XOR Problem is something like under graph"
   ]
  },
  {
   "cell_type": "code",
   "execution_count": 9,
   "metadata": {
    "collapsed": false,
    "scrolled": true
   },
   "outputs": [
    {
     "data": {
      "image/png": "[encoded data removed]",
      "text/plain": [
       "<matplotlib.figure.Figure at 0x1c12952eb8>"
      ]
     },
     "metadata": {},
     "output_type": "display_data"
    }
   ],
   "source": [
    "fig = plt.figure(figsize=(3, 3), dpi=100)\n",
    "ax4 = fig.add_subplot(1,1,1)\n",
    "ax4.scatter([0, 1], [0, 1], s=30, c='r', marker='o')\n",
    "ax4.scatter([0, 1], [1, 0], s=30, c='r', marker='x')\n",
    "# ax4.plot([-2, 2], [get_x2(-2, 0, 0), get_x2(2, 0, 0)])\n",
    "ax4.set_xlim([-2, 2])\n",
    "ax4.set_ylim([-2, 2])\n",
    "ax4.set_title('XOR')\n",
    "plt.show()"
   ]
  },
  {
   "cell_type": "markdown",
   "metadata": {},
   "source": [
    "A linear function can't solve this. But if we add 2 linear function together, then we can solve this problem."
   ]
  },
  {
   "cell_type": "markdown",
   "metadata": {},
   "source": [
    "| $x_1$ | $x_2$ | $s_1$ | $s_2$ | $y$ |\n",
    "|:--:|:--:|:--:|:--:|:--:|:--:|\n",
    "|0|0|1|0|0|\n",
    "|1|0|1|1|1|\n",
    "|0|1|1|1|1|\n",
    "|1|1|0|1|0|\n"
   ]
  },
  {
   "cell_type": "code",
   "execution_count": 10,
   "metadata": {
    "collapsed": true
   },
   "outputs": [],
   "source": [
    "def XOR(x1, x2):\n",
    "    s1 = NAND(x1, x2)\n",
    "    s2 = OR(x1, x2)\n",
    "    y = AND(s1, s2)\n",
    "    return y"
   ]
  },
  {
   "cell_type": "code",
   "execution_count": 11,
   "metadata": {
    "collapsed": false
   },
   "outputs": [
    {
     "name": "stdout",
     "output_type": "stream",
     "text": [
      "XOR(0,0) : 0\n",
      "XOR(0,1) : 1\n",
      "XOR(1,0) : 1\n",
      "XOR(1,1) : 0\n"
     ]
    }
   ],
   "source": [
    "xx = [[0, 0], [0, 1], [1, 0], [1, 1]]\n",
    "for x in xx:\n",
    "    print('XOR({0},{1}) : {2}'.format(x[0], x[1], XOR(x[0], x[1])))"
   ]
  }
 ],
 "metadata": {
  "kernelspec": {
   "display_name": "Python [conda root]",
   "language": "python",
   "name": "conda-root-py"
  },
  "language_info": {
   "codemirror_mode": {
    "name": "ipython",
    "version": 3
   },
   "file_extension": ".py",
   "mimetype": "text/x-python",
   "name": "python",
   "nbconvert_exporter": "python",
   "pygments_lexer": "ipython3",
   "version": "3.6.0"
  }
 },
 "nbformat": 4,
 "nbformat_minor": 2
}
